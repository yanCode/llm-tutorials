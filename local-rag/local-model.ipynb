{
 "cells": [
  {
   "cell_type": "code",
   "execution_count": null,
   "metadata": {},
   "outputs": [],
   "source": [
    "import os\n",
    "import pprint\n",
    "from dotenv import load_dotenv\n",
    "load_dotenv()\n",
    "OPENAI_API_KEY = os.getenv(\"OPENAI_API_KEY\")\n",
    "# MODEL = 'gpt-3.5-turbo'\n",
    "# MODEL = 'mixtral:8x7b'\n",
    "MODEL = 'llama3'\n",
    "from langchain_openai.chat_models import ChatOpenAI\n",
    "\n",
    "# model = ChatOpenAI(openai_api_key=OPENAI_API_KEY, model=MODEL)\n",
    "# model.invoke(\"how many population is it in suzhou?\")"
   ]
  },
  {
   "cell_type": "code",
   "execution_count": null,
   "metadata": {},
   "outputs": [],
   "source": [
    "from langchain_community.llms import Ollama\n",
    "from langchain_openai.embeddings import OpenAIEmbeddings\n",
    "from langchain_community.embeddings import OllamaEmbeddings\n",
    "if MODEL.startswith('gpt'):\n",
    "   model =  ChatOpenAI(openai_api_key=OPENAI_API_KEY, model=MODEL)\n",
    "   embeddings = OpenAIEmbeddings()\n",
    "else:\n",
    "  model = Ollama( model=MODEL) \n",
    "  embeddings = OllamaEmbeddings(model=MODEL) \n",
    "model.invoke(\"what's the population of Nepal?\")  "
   ]
  },
  {
   "cell_type": "code",
   "execution_count": null,
   "metadata": {},
   "outputs": [],
   "source": [
    "from langchain_core.output_parsers import StrOutputParser\n",
    "\n",
    "parser = StrOutputParser()\n",
    "chain = model | parser\n",
    "chain.invoke('tell me a fun fact of the year 2021')\n"
   ]
  },
  {
   "cell_type": "code",
   "execution_count": null,
   "metadata": {},
   "outputs": [],
   "source": [
    "from langchain.prompts import PromptTemplate\n",
    "template = \"\"\"\n",
    " Answer the question based on the context below. If you can't \n",
    "answer the question, reply \"I have no idea.\".\n",
    "Context: {context}\n",
    "Question: {question}\n",
    "\"\"\"\n",
    "prompt = PromptTemplate.from_template(template)\n",
    "prompt.format(context=\"Paris is the capital of France\", question=\"What is the capital of France?\")"
   ]
  },
  {
   "cell_type": "code",
   "execution_count": null,
   "metadata": {},
   "outputs": [],
   "source": [
    "chain = prompt | model | parser\n",
    "chain.invoke({ \"context\":\"I am from Pizhou\", \"question\":\"how much money do i earn?\"})"
   ]
  },
  {
   "cell_type": "code",
   "execution_count": null,
   "metadata": {},
   "outputs": [],
   "source": [
    "from langchain_community.document_loaders import PyPDFLoader\n",
    "loader = PyPDFLoader(\"mlschool.pdf\")\n",
    "pages = loader.load_and_split()\n",
    "pages"
   ]
  },
  {
   "cell_type": "code",
   "execution_count": null,
   "metadata": {},
   "outputs": [],
   "source": [
    "from langchain.prompts import PromptTemplate\n",
    "template = \"\"\"\n",
    " Answer the question based on the context below. If you can't \n",
    "answer the question, reply \"I have no idea.\".\n",
    "Context: {context}\n",
    "Question: {question}\n",
    "\"\"\"\n",
    "prompt = PromptTemplate.from_template(template)\n",
    "result = prompt.format(context=\"Here is some context\", question=\"Here is the question\")\n",
    "print(result)"
   ]
  },
  {
   "cell_type": "code",
   "execution_count": null,
   "metadata": {},
   "outputs": [],
   "source": [
    "chain = prompt | model | parser\n",
    "chain.input_schema.schema()"
   ]
  },
  {
   "cell_type": "code",
   "execution_count": null,
   "metadata": {},
   "outputs": [],
   "source": [
    "chain.invoke({ \"context\":\"my wife call me superman.\", \"question\":\"what does my wife call me?\"})"
   ]
  },
  {
   "cell_type": "code",
   "execution_count": null,
   "metadata": {},
   "outputs": [],
   "source": [
    "from langchain_community.vectorstores import DocArrayInMemorySearch\n",
    "vectorstore = DocArrayInMemorySearch.from_documents(pages, embedding=embeddings)"
   ]
  },
  {
   "cell_type": "code",
   "execution_count": null,
   "metadata": {},
   "outputs": [],
   "source": [
    "retriver = vectorstore.as_retriever()\n",
    "retriver.invoke('Machine learning')"
   ]
  },
  {
   "cell_type": "code",
   "execution_count": null,
   "metadata": {},
   "outputs": [],
   "source": [
    "from operator import itemgetter\n",
    "chain =(\n",
    "{\n",
    "  \"context\": itemgetter('question') | retriver,\n",
    "  \"question\": itemgetter('question')\n",
    "}\n",
    "| prompt | model | parser)\n",
    "chain.invoke({'question':\"what's the purpose of the course?\"})"
   ]
  },
  {
   "cell_type": "code",
   "execution_count": null,
   "metadata": {},
   "outputs": [],
   "source": [
    "questions = [\n",
    "    \"What is the purpose of the course?\",\n",
    "    \"How many hours of live sessions?\",\n",
    "    \"How many coding assignments are there in the program?\",\n",
    "    \"Is there a program certificate upon completion?\",\n",
    "    \"What programming language will be used in the program?\",\n",
    "    \"How much does the program cost?\",\n",
    "]\n",
    "for question in questions:\n",
    "    print(f\"Question: {question}\")\n",
    "    print(f\"Answer: {chain.invoke({ 'question': question })}\\n\")"
   ]
  },
  {
   "cell_type": "code",
   "execution_count": null,
   "metadata": {},
   "outputs": [],
   "source": [
    "\n",
    "for s in chain.stream({'question': \"How much does the program cost?\"}):\n",
    "  print(s, end=\"\", flush=True)"
   ]
  },
  {
   "cell_type": "code",
   "execution_count": null,
   "metadata": {},
   "outputs": [],
   "source": [
    "chain.batch([{ \"question\": question } for question in questions])"
   ]
  }
 ],
 "metadata": {
  "kernelspec": {
   "display_name": ".venv",
   "language": "python",
   "name": "python3"
  },
  "language_info": {
   "codemirror_mode": {
    "name": "ipython",
    "version": 3
   },
   "file_extension": ".py",
   "mimetype": "text/x-python",
   "name": "python",
   "nbconvert_exporter": "python",
   "pygments_lexer": "ipython3",
   "version": "3.10.10"
  }
 },
 "nbformat": 4,
 "nbformat_minor": 2
}
